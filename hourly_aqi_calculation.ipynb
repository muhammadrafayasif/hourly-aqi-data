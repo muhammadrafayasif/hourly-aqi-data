{
 "cells": [
  {
   "cell_type": "code",
   "execution_count": 1,
   "id": "bf962d30",
   "metadata": {},
   "outputs": [],
   "source": [
    "from selenium import webdriver\n",
    "from bs4 import BeautifulSoup\n",
    "import pandas as pd\n",
    "import plotly.express as px"
   ]
  },
  {
   "cell_type": "code",
   "execution_count": 2,
   "id": "5072abf8",
   "metadata": {},
   "outputs": [],
   "source": [
    "driver = webdriver.Firefox()\n",
    "driver.get('https://www.iqair.com/pakistan/sindh/karachi')\n",
    "source = driver.page_source"
   ]
  },
  {
   "cell_type": "code",
   "execution_count": 3,
   "id": "b01beb31",
   "metadata": {},
   "outputs": [],
   "source": [
    "weather = BeautifulSoup(source, 'html.parser')\n",
    "N = len(weather.find_all(class_='forecast-item'))"
   ]
  },
  {
   "cell_type": "code",
   "execution_count": 4,
   "id": "f9ff223d",
   "metadata": {},
   "outputs": [],
   "source": [
    "data = list()\n",
    "for i in range(1, N):\n",
    "    timestamp = weather.find_all(class_='forecast-item')[i].contents[0].contents[1].strip()\n",
    "    aqi = weather.find_all(class_='forecast-item')[i].contents[1].contents[0].strip()\n",
    "    temp = weather.find_all(class_='forecast-item')[i].contents[4].contents[0].strip()\n",
    "    windSpeed = weather.find_all(class_='forecast-item')[i].contents[5].contents[1].contents[0].strip()\n",
    "    humidity = weather.find_all(class_='forecast-item')[i].contents[6].contents[1].contents[0].strip()\n",
    "    data.append((timestamp, aqi, temp, windSpeed, humidity))"
   ]
  },
  {
   "cell_type": "code",
   "execution_count": 13,
   "id": "2a906157",
   "metadata": {},
   "outputs": [
    {
     "data": {
      "application/vnd.plotly.v1+json": {
       "config": {
        "plotlyServerURL": "https://plot.ly"
       },
       "data": [
        {
         "hovertemplate": "x=%{x}<br>y=%{y}<extra></extra>",
         "legendgroup": "",
         "line": {
          "color": "#636efa",
          "dash": "solid"
         },
         "marker": {
          "symbol": "circle"
         },
         "mode": "lines",
         "name": "",
         "orientation": "h",
         "showlegend": false,
         "type": "scatter",
         "x": {
          "bdata": "AAECAwQFBgcICQoLDA0ODxAREhMUFRYXGBkaGxwdHh8gISIjJCUmJygpKissLS4vMDEyMzQ1Njc4OTo7PD0+P0BBQkNERUZH",
          "dtype": "i1"
         },
         "xaxis": "x",
         "y": [
          "57",
          "60",
          "62",
          "66",
          "68",
          "71",
          "72",
          "74",
          "77",
          "79",
          "82",
          "84",
          "80",
          "80",
          "80",
          "77",
          "77",
          "77",
          "81",
          "81",
          "81",
          "83",
          "83",
          "83",
          "82",
          "82",
          "82",
          "79",
          "79",
          "79",
          "78",
          "78",
          "78",
          "78",
          "78",
          "78",
          "78",
          "78",
          "78",
          "79",
          "79",
          "79",
          "79",
          "79",
          "79",
          "81",
          "81",
          "81",
          "79",
          "79",
          "79",
          "78",
          "78",
          "78",
          "80",
          "80",
          "80",
          "82",
          "82",
          "82",
          "80",
          "80",
          "80",
          "77",
          "77",
          "77",
          "78",
          "78",
          "78",
          "73",
          "73",
          "73"
         ],
         "yaxis": "y"
        }
       ],
       "layout": {
        "legend": {
         "tracegroupgap": 0
        },
        "margin": {
         "t": 60
        },
        "template": {
         "data": {
          "bar": [
           {
            "error_x": {
             "color": "#2a3f5f"
            },
            "error_y": {
             "color": "#2a3f5f"
            },
            "marker": {
             "line": {
              "color": "#E5ECF6",
              "width": 0.5
             },
             "pattern": {
              "fillmode": "overlay",
              "size": 10,
              "solidity": 0.2
             }
            },
            "type": "bar"
           }
          ],
          "barpolar": [
           {
            "marker": {
             "line": {
              "color": "#E5ECF6",
              "width": 0.5
             },
             "pattern": {
              "fillmode": "overlay",
              "size": 10,
              "solidity": 0.2
             }
            },
            "type": "barpolar"
           }
          ],
          "carpet": [
           {
            "aaxis": {
             "endlinecolor": "#2a3f5f",
             "gridcolor": "white",
             "linecolor": "white",
             "minorgridcolor": "white",
             "startlinecolor": "#2a3f5f"
            },
            "baxis": {
             "endlinecolor": "#2a3f5f",
             "gridcolor": "white",
             "linecolor": "white",
             "minorgridcolor": "white",
             "startlinecolor": "#2a3f5f"
            },
            "type": "carpet"
           }
          ],
          "choropleth": [
           {
            "colorbar": {
             "outlinewidth": 0,
             "ticks": ""
            },
            "type": "choropleth"
           }
          ],
          "contour": [
           {
            "colorbar": {
             "outlinewidth": 0,
             "ticks": ""
            },
            "colorscale": [
             [
              0,
              "#0d0887"
             ],
             [
              0.1111111111111111,
              "#46039f"
             ],
             [
              0.2222222222222222,
              "#7201a8"
             ],
             [
              0.3333333333333333,
              "#9c179e"
             ],
             [
              0.4444444444444444,
              "#bd3786"
             ],
             [
              0.5555555555555556,
              "#d8576b"
             ],
             [
              0.6666666666666666,
              "#ed7953"
             ],
             [
              0.7777777777777778,
              "#fb9f3a"
             ],
             [
              0.8888888888888888,
              "#fdca26"
             ],
             [
              1,
              "#f0f921"
             ]
            ],
            "type": "contour"
           }
          ],
          "contourcarpet": [
           {
            "colorbar": {
             "outlinewidth": 0,
             "ticks": ""
            },
            "type": "contourcarpet"
           }
          ],
          "heatmap": [
           {
            "colorbar": {
             "outlinewidth": 0,
             "ticks": ""
            },
            "colorscale": [
             [
              0,
              "#0d0887"
             ],
             [
              0.1111111111111111,
              "#46039f"
             ],
             [
              0.2222222222222222,
              "#7201a8"
             ],
             [
              0.3333333333333333,
              "#9c179e"
             ],
             [
              0.4444444444444444,
              "#bd3786"
             ],
             [
              0.5555555555555556,
              "#d8576b"
             ],
             [
              0.6666666666666666,
              "#ed7953"
             ],
             [
              0.7777777777777778,
              "#fb9f3a"
             ],
             [
              0.8888888888888888,
              "#fdca26"
             ],
             [
              1,
              "#f0f921"
             ]
            ],
            "type": "heatmap"
           }
          ],
          "histogram": [
           {
            "marker": {
             "pattern": {
              "fillmode": "overlay",
              "size": 10,
              "solidity": 0.2
             }
            },
            "type": "histogram"
           }
          ],
          "histogram2d": [
           {
            "colorbar": {
             "outlinewidth": 0,
             "ticks": ""
            },
            "colorscale": [
             [
              0,
              "#0d0887"
             ],
             [
              0.1111111111111111,
              "#46039f"
             ],
             [
              0.2222222222222222,
              "#7201a8"
             ],
             [
              0.3333333333333333,
              "#9c179e"
             ],
             [
              0.4444444444444444,
              "#bd3786"
             ],
             [
              0.5555555555555556,
              "#d8576b"
             ],
             [
              0.6666666666666666,
              "#ed7953"
             ],
             [
              0.7777777777777778,
              "#fb9f3a"
             ],
             [
              0.8888888888888888,
              "#fdca26"
             ],
             [
              1,
              "#f0f921"
             ]
            ],
            "type": "histogram2d"
           }
          ],
          "histogram2dcontour": [
           {
            "colorbar": {
             "outlinewidth": 0,
             "ticks": ""
            },
            "colorscale": [
             [
              0,
              "#0d0887"
             ],
             [
              0.1111111111111111,
              "#46039f"
             ],
             [
              0.2222222222222222,
              "#7201a8"
             ],
             [
              0.3333333333333333,
              "#9c179e"
             ],
             [
              0.4444444444444444,
              "#bd3786"
             ],
             [
              0.5555555555555556,
              "#d8576b"
             ],
             [
              0.6666666666666666,
              "#ed7953"
             ],
             [
              0.7777777777777778,
              "#fb9f3a"
             ],
             [
              0.8888888888888888,
              "#fdca26"
             ],
             [
              1,
              "#f0f921"
             ]
            ],
            "type": "histogram2dcontour"
           }
          ],
          "mesh3d": [
           {
            "colorbar": {
             "outlinewidth": 0,
             "ticks": ""
            },
            "type": "mesh3d"
           }
          ],
          "parcoords": [
           {
            "line": {
             "colorbar": {
              "outlinewidth": 0,
              "ticks": ""
             }
            },
            "type": "parcoords"
           }
          ],
          "pie": [
           {
            "automargin": true,
            "type": "pie"
           }
          ],
          "scatter": [
           {
            "fillpattern": {
             "fillmode": "overlay",
             "size": 10,
             "solidity": 0.2
            },
            "type": "scatter"
           }
          ],
          "scatter3d": [
           {
            "line": {
             "colorbar": {
              "outlinewidth": 0,
              "ticks": ""
             }
            },
            "marker": {
             "colorbar": {
              "outlinewidth": 0,
              "ticks": ""
             }
            },
            "type": "scatter3d"
           }
          ],
          "scattercarpet": [
           {
            "marker": {
             "colorbar": {
              "outlinewidth": 0,
              "ticks": ""
             }
            },
            "type": "scattercarpet"
           }
          ],
          "scattergeo": [
           {
            "marker": {
             "colorbar": {
              "outlinewidth": 0,
              "ticks": ""
             }
            },
            "type": "scattergeo"
           }
          ],
          "scattergl": [
           {
            "marker": {
             "colorbar": {
              "outlinewidth": 0,
              "ticks": ""
             }
            },
            "type": "scattergl"
           }
          ],
          "scattermap": [
           {
            "marker": {
             "colorbar": {
              "outlinewidth": 0,
              "ticks": ""
             }
            },
            "type": "scattermap"
           }
          ],
          "scattermapbox": [
           {
            "marker": {
             "colorbar": {
              "outlinewidth": 0,
              "ticks": ""
             }
            },
            "type": "scattermapbox"
           }
          ],
          "scatterpolar": [
           {
            "marker": {
             "colorbar": {
              "outlinewidth": 0,
              "ticks": ""
             }
            },
            "type": "scatterpolar"
           }
          ],
          "scatterpolargl": [
           {
            "marker": {
             "colorbar": {
              "outlinewidth": 0,
              "ticks": ""
             }
            },
            "type": "scatterpolargl"
           }
          ],
          "scatterternary": [
           {
            "marker": {
             "colorbar": {
              "outlinewidth": 0,
              "ticks": ""
             }
            },
            "type": "scatterternary"
           }
          ],
          "surface": [
           {
            "colorbar": {
             "outlinewidth": 0,
             "ticks": ""
            },
            "colorscale": [
             [
              0,
              "#0d0887"
             ],
             [
              0.1111111111111111,
              "#46039f"
             ],
             [
              0.2222222222222222,
              "#7201a8"
             ],
             [
              0.3333333333333333,
              "#9c179e"
             ],
             [
              0.4444444444444444,
              "#bd3786"
             ],
             [
              0.5555555555555556,
              "#d8576b"
             ],
             [
              0.6666666666666666,
              "#ed7953"
             ],
             [
              0.7777777777777778,
              "#fb9f3a"
             ],
             [
              0.8888888888888888,
              "#fdca26"
             ],
             [
              1,
              "#f0f921"
             ]
            ],
            "type": "surface"
           }
          ],
          "table": [
           {
            "cells": {
             "fill": {
              "color": "#EBF0F8"
             },
             "line": {
              "color": "white"
             }
            },
            "header": {
             "fill": {
              "color": "#C8D4E3"
             },
             "line": {
              "color": "white"
             }
            },
            "type": "table"
           }
          ]
         },
         "layout": {
          "annotationdefaults": {
           "arrowcolor": "#2a3f5f",
           "arrowhead": 0,
           "arrowwidth": 1
          },
          "autotypenumbers": "strict",
          "coloraxis": {
           "colorbar": {
            "outlinewidth": 0,
            "ticks": ""
           }
          },
          "colorscale": {
           "diverging": [
            [
             0,
             "#8e0152"
            ],
            [
             0.1,
             "#c51b7d"
            ],
            [
             0.2,
             "#de77ae"
            ],
            [
             0.3,
             "#f1b6da"
            ],
            [
             0.4,
             "#fde0ef"
            ],
            [
             0.5,
             "#f7f7f7"
            ],
            [
             0.6,
             "#e6f5d0"
            ],
            [
             0.7,
             "#b8e186"
            ],
            [
             0.8,
             "#7fbc41"
            ],
            [
             0.9,
             "#4d9221"
            ],
            [
             1,
             "#276419"
            ]
           ],
           "sequential": [
            [
             0,
             "#0d0887"
            ],
            [
             0.1111111111111111,
             "#46039f"
            ],
            [
             0.2222222222222222,
             "#7201a8"
            ],
            [
             0.3333333333333333,
             "#9c179e"
            ],
            [
             0.4444444444444444,
             "#bd3786"
            ],
            [
             0.5555555555555556,
             "#d8576b"
            ],
            [
             0.6666666666666666,
             "#ed7953"
            ],
            [
             0.7777777777777778,
             "#fb9f3a"
            ],
            [
             0.8888888888888888,
             "#fdca26"
            ],
            [
             1,
             "#f0f921"
            ]
           ],
           "sequentialminus": [
            [
             0,
             "#0d0887"
            ],
            [
             0.1111111111111111,
             "#46039f"
            ],
            [
             0.2222222222222222,
             "#7201a8"
            ],
            [
             0.3333333333333333,
             "#9c179e"
            ],
            [
             0.4444444444444444,
             "#bd3786"
            ],
            [
             0.5555555555555556,
             "#d8576b"
            ],
            [
             0.6666666666666666,
             "#ed7953"
            ],
            [
             0.7777777777777778,
             "#fb9f3a"
            ],
            [
             0.8888888888888888,
             "#fdca26"
            ],
            [
             1,
             "#f0f921"
            ]
           ]
          },
          "colorway": [
           "#636efa",
           "#EF553B",
           "#00cc96",
           "#ab63fa",
           "#FFA15A",
           "#19d3f3",
           "#FF6692",
           "#B6E880",
           "#FF97FF",
           "#FECB52"
          ],
          "font": {
           "color": "#2a3f5f"
          },
          "geo": {
           "bgcolor": "white",
           "lakecolor": "white",
           "landcolor": "#E5ECF6",
           "showlakes": true,
           "showland": true,
           "subunitcolor": "white"
          },
          "hoverlabel": {
           "align": "left"
          },
          "hovermode": "closest",
          "mapbox": {
           "style": "light"
          },
          "paper_bgcolor": "white",
          "plot_bgcolor": "#E5ECF6",
          "polar": {
           "angularaxis": {
            "gridcolor": "white",
            "linecolor": "white",
            "ticks": ""
           },
           "bgcolor": "#E5ECF6",
           "radialaxis": {
            "gridcolor": "white",
            "linecolor": "white",
            "ticks": ""
           }
          },
          "scene": {
           "xaxis": {
            "backgroundcolor": "#E5ECF6",
            "gridcolor": "white",
            "gridwidth": 2,
            "linecolor": "white",
            "showbackground": true,
            "ticks": "",
            "zerolinecolor": "white"
           },
           "yaxis": {
            "backgroundcolor": "#E5ECF6",
            "gridcolor": "white",
            "gridwidth": 2,
            "linecolor": "white",
            "showbackground": true,
            "ticks": "",
            "zerolinecolor": "white"
           },
           "zaxis": {
            "backgroundcolor": "#E5ECF6",
            "gridcolor": "white",
            "gridwidth": 2,
            "linecolor": "white",
            "showbackground": true,
            "ticks": "",
            "zerolinecolor": "white"
           }
          },
          "shapedefaults": {
           "line": {
            "color": "#2a3f5f"
           }
          },
          "ternary": {
           "aaxis": {
            "gridcolor": "white",
            "linecolor": "white",
            "ticks": ""
           },
           "baxis": {
            "gridcolor": "white",
            "linecolor": "white",
            "ticks": ""
           },
           "bgcolor": "#E5ECF6",
           "caxis": {
            "gridcolor": "white",
            "linecolor": "white",
            "ticks": ""
           }
          },
          "title": {
           "x": 0.05
          },
          "xaxis": {
           "automargin": true,
           "gridcolor": "white",
           "linecolor": "white",
           "ticks": "",
           "title": {
            "standoff": 15
           },
           "zerolinecolor": "white",
           "zerolinewidth": 2
          },
          "yaxis": {
           "automargin": true,
           "gridcolor": "white",
           "linecolor": "white",
           "ticks": "",
           "title": {
            "standoff": 15
           },
           "zerolinecolor": "white",
           "zerolinewidth": 2
          }
         }
        },
        "xaxis": {
         "anchor": "y",
         "domain": [
          0,
          1
         ],
         "title": {
          "text": "x = Hours"
         }
        },
        "yaxis": {
         "anchor": "x",
         "domain": [
          0,
          1
         ],
         "title": {
          "text": "y = AQI"
         }
        }
       }
      }
     },
     "metadata": {},
     "output_type": "display_data"
    }
   ],
   "source": [
    "df = pd.DataFrame(data, columns=['Timestamp', 'AQI', 'Temperature', 'Wind Speed', 'Humidity'])\n",
    "\n",
    "figure = px.line(x=list(range(72)), y=df['AQI'],)\n",
    "figure.update_layout(xaxis_title='x = Hours', yaxis_title='y = AQI')\n",
    "figure.show()"
   ]
  },
  {
   "cell_type": "code",
   "execution_count": 7,
   "id": "fcfdce32",
   "metadata": {},
   "outputs": [
    {
     "data": {
      "text/html": [
       "<div>\n",
       "<style scoped>\n",
       "    .dataframe tbody tr th:only-of-type {\n",
       "        vertical-align: middle;\n",
       "    }\n",
       "\n",
       "    .dataframe tbody tr th {\n",
       "        vertical-align: top;\n",
       "    }\n",
       "\n",
       "    .dataframe thead th {\n",
       "        text-align: right;\n",
       "    }\n",
       "</style>\n",
       "<table border=\"1\" class=\"dataframe\">\n",
       "  <thead>\n",
       "    <tr style=\"text-align: right;\">\n",
       "      <th></th>\n",
       "      <th>Timestamp</th>\n",
       "      <th>AQI</th>\n",
       "      <th>Temperature</th>\n",
       "      <th>Wind Speed</th>\n",
       "      <th>Humidity</th>\n",
       "    </tr>\n",
       "  </thead>\n",
       "  <tbody>\n",
       "    <tr>\n",
       "      <th>0</th>\n",
       "      <td>17:00</td>\n",
       "      <td>57</td>\n",
       "      <td>29°</td>\n",
       "      <td>28.8</td>\n",
       "      <td>78%</td>\n",
       "    </tr>\n",
       "    <tr>\n",
       "      <th>1</th>\n",
       "      <td>18:00</td>\n",
       "      <td>60</td>\n",
       "      <td>29°</td>\n",
       "      <td>28.8</td>\n",
       "      <td>78%</td>\n",
       "    </tr>\n",
       "    <tr>\n",
       "      <th>2</th>\n",
       "      <td>19:00</td>\n",
       "      <td>62</td>\n",
       "      <td>29°</td>\n",
       "      <td>25.2</td>\n",
       "      <td>79%</td>\n",
       "    </tr>\n",
       "    <tr>\n",
       "      <th>3</th>\n",
       "      <td>20:00</td>\n",
       "      <td>66</td>\n",
       "      <td>28°</td>\n",
       "      <td>25.2</td>\n",
       "      <td>78%</td>\n",
       "    </tr>\n",
       "    <tr>\n",
       "      <th>4</th>\n",
       "      <td>21:00</td>\n",
       "      <td>68</td>\n",
       "      <td>28°</td>\n",
       "      <td>21.6</td>\n",
       "      <td>78%</td>\n",
       "    </tr>\n",
       "    <tr>\n",
       "      <th>5</th>\n",
       "      <td>22:00</td>\n",
       "      <td>71</td>\n",
       "      <td>28°</td>\n",
       "      <td>21.6</td>\n",
       "      <td>79%</td>\n",
       "    </tr>\n",
       "    <tr>\n",
       "      <th>6</th>\n",
       "      <td>23:00</td>\n",
       "      <td>72</td>\n",
       "      <td>28°</td>\n",
       "      <td>21.6</td>\n",
       "      <td>83%</td>\n",
       "    </tr>\n",
       "    <tr>\n",
       "      <th>7</th>\n",
       "      <td>00:00</td>\n",
       "      <td>74</td>\n",
       "      <td>28°</td>\n",
       "      <td>21.6</td>\n",
       "      <td>87%</td>\n",
       "    </tr>\n",
       "    <tr>\n",
       "      <th>8</th>\n",
       "      <td>01:00</td>\n",
       "      <td>77</td>\n",
       "      <td>28°</td>\n",
       "      <td>21.6</td>\n",
       "      <td>87%</td>\n",
       "    </tr>\n",
       "    <tr>\n",
       "      <th>9</th>\n",
       "      <td>02:00</td>\n",
       "      <td>79</td>\n",
       "      <td>28°</td>\n",
       "      <td>21.6</td>\n",
       "      <td>88%</td>\n",
       "    </tr>\n",
       "    <tr>\n",
       "      <th>10</th>\n",
       "      <td>03:00</td>\n",
       "      <td>82</td>\n",
       "      <td>28°</td>\n",
       "      <td>25.2</td>\n",
       "      <td>87%</td>\n",
       "    </tr>\n",
       "    <tr>\n",
       "      <th>11</th>\n",
       "      <td>04:00</td>\n",
       "      <td>84</td>\n",
       "      <td>28°</td>\n",
       "      <td>25.2</td>\n",
       "      <td>87%</td>\n",
       "    </tr>\n",
       "    <tr>\n",
       "      <th>12</th>\n",
       "      <td>05:00</td>\n",
       "      <td>80</td>\n",
       "      <td>28°</td>\n",
       "      <td>25.2</td>\n",
       "      <td>86%</td>\n",
       "    </tr>\n",
       "    <tr>\n",
       "      <th>13</th>\n",
       "      <td>06:00</td>\n",
       "      <td>80</td>\n",
       "      <td>28°</td>\n",
       "      <td>28.8</td>\n",
       "      <td>81%</td>\n",
       "    </tr>\n",
       "    <tr>\n",
       "      <th>14</th>\n",
       "      <td>07:00</td>\n",
       "      <td>80</td>\n",
       "      <td>28°</td>\n",
       "      <td>28.8</td>\n",
       "      <td>80%</td>\n",
       "    </tr>\n",
       "    <tr>\n",
       "      <th>15</th>\n",
       "      <td>08:00</td>\n",
       "      <td>77</td>\n",
       "      <td>28°</td>\n",
       "      <td>28.8</td>\n",
       "      <td>80%</td>\n",
       "    </tr>\n",
       "    <tr>\n",
       "      <th>16</th>\n",
       "      <td>09:00</td>\n",
       "      <td>77</td>\n",
       "      <td>28°</td>\n",
       "      <td>28.8</td>\n",
       "      <td>82%</td>\n",
       "    </tr>\n",
       "    <tr>\n",
       "      <th>17</th>\n",
       "      <td>10:00</td>\n",
       "      <td>77</td>\n",
       "      <td>29°</td>\n",
       "      <td>28.8</td>\n",
       "      <td>80%</td>\n",
       "    </tr>\n",
       "    <tr>\n",
       "      <th>18</th>\n",
       "      <td>11:00</td>\n",
       "      <td>81</td>\n",
       "      <td>29°</td>\n",
       "      <td>28.8</td>\n",
       "      <td>78%</td>\n",
       "    </tr>\n",
       "    <tr>\n",
       "      <th>19</th>\n",
       "      <td>12:00</td>\n",
       "      <td>81</td>\n",
       "      <td>29°</td>\n",
       "      <td>25.2</td>\n",
       "      <td>78%</td>\n",
       "    </tr>\n",
       "    <tr>\n",
       "      <th>20</th>\n",
       "      <td>13:00</td>\n",
       "      <td>81</td>\n",
       "      <td>30°</td>\n",
       "      <td>28.8</td>\n",
       "      <td>76%</td>\n",
       "    </tr>\n",
       "    <tr>\n",
       "      <th>21</th>\n",
       "      <td>14:00</td>\n",
       "      <td>83</td>\n",
       "      <td>30°</td>\n",
       "      <td>28.8</td>\n",
       "      <td>75%</td>\n",
       "    </tr>\n",
       "    <tr>\n",
       "      <th>22</th>\n",
       "      <td>15:00</td>\n",
       "      <td>83</td>\n",
       "      <td>30°</td>\n",
       "      <td>28.8</td>\n",
       "      <td>75%</td>\n",
       "    </tr>\n",
       "    <tr>\n",
       "      <th>23</th>\n",
       "      <td>16:00</td>\n",
       "      <td>83</td>\n",
       "      <td>30°</td>\n",
       "      <td>28.8</td>\n",
       "      <td>75%</td>\n",
       "    </tr>\n",
       "    <tr>\n",
       "      <th>24</th>\n",
       "      <td>17:00</td>\n",
       "      <td>82</td>\n",
       "      <td>30°</td>\n",
       "      <td>28.8</td>\n",
       "      <td>75%</td>\n",
       "    </tr>\n",
       "    <tr>\n",
       "      <th>25</th>\n",
       "      <td>18:00</td>\n",
       "      <td>82</td>\n",
       "      <td>30°</td>\n",
       "      <td>25.2</td>\n",
       "      <td>76%</td>\n",
       "    </tr>\n",
       "    <tr>\n",
       "      <th>26</th>\n",
       "      <td>19:00</td>\n",
       "      <td>82</td>\n",
       "      <td>29°</td>\n",
       "      <td>28.8</td>\n",
       "      <td>77%</td>\n",
       "    </tr>\n",
       "    <tr>\n",
       "      <th>27</th>\n",
       "      <td>20:00</td>\n",
       "      <td>79</td>\n",
       "      <td>29°</td>\n",
       "      <td>28.8</td>\n",
       "      <td>79%</td>\n",
       "    </tr>\n",
       "    <tr>\n",
       "      <th>28</th>\n",
       "      <td>21:00</td>\n",
       "      <td>79</td>\n",
       "      <td>29°</td>\n",
       "      <td>28.8</td>\n",
       "      <td>81%</td>\n",
       "    </tr>\n",
       "    <tr>\n",
       "      <th>29</th>\n",
       "      <td>22:00</td>\n",
       "      <td>79</td>\n",
       "      <td>29°</td>\n",
       "      <td>28.8</td>\n",
       "      <td>81%</td>\n",
       "    </tr>\n",
       "    <tr>\n",
       "      <th>30</th>\n",
       "      <td>23:00</td>\n",
       "      <td>78</td>\n",
       "      <td>29°</td>\n",
       "      <td>28.8</td>\n",
       "      <td>81%</td>\n",
       "    </tr>\n",
       "    <tr>\n",
       "      <th>31</th>\n",
       "      <td>00:00</td>\n",
       "      <td>78</td>\n",
       "      <td>28°</td>\n",
       "      <td>28.8</td>\n",
       "      <td>82%</td>\n",
       "    </tr>\n",
       "    <tr>\n",
       "      <th>32</th>\n",
       "      <td>01:00</td>\n",
       "      <td>78</td>\n",
       "      <td>28°</td>\n",
       "      <td>28.8</td>\n",
       "      <td>83%</td>\n",
       "    </tr>\n",
       "    <tr>\n",
       "      <th>33</th>\n",
       "      <td>02:00</td>\n",
       "      <td>78</td>\n",
       "      <td>28°</td>\n",
       "      <td>25.2</td>\n",
       "      <td>84%</td>\n",
       "    </tr>\n",
       "    <tr>\n",
       "      <th>34</th>\n",
       "      <td>03:00</td>\n",
       "      <td>78</td>\n",
       "      <td>28°</td>\n",
       "      <td>25.2</td>\n",
       "      <td>84%</td>\n",
       "    </tr>\n",
       "    <tr>\n",
       "      <th>35</th>\n",
       "      <td>04:00</td>\n",
       "      <td>78</td>\n",
       "      <td>28°</td>\n",
       "      <td>25.2</td>\n",
       "      <td>84%</td>\n",
       "    </tr>\n",
       "    <tr>\n",
       "      <th>36</th>\n",
       "      <td>05:00</td>\n",
       "      <td>78</td>\n",
       "      <td>28°</td>\n",
       "      <td>25.2</td>\n",
       "      <td>84%</td>\n",
       "    </tr>\n",
       "    <tr>\n",
       "      <th>37</th>\n",
       "      <td>06:00</td>\n",
       "      <td>78</td>\n",
       "      <td>28°</td>\n",
       "      <td>25.2</td>\n",
       "      <td>84%</td>\n",
       "    </tr>\n",
       "    <tr>\n",
       "      <th>38</th>\n",
       "      <td>07:00</td>\n",
       "      <td>78</td>\n",
       "      <td>28°</td>\n",
       "      <td>25.2</td>\n",
       "      <td>83%</td>\n",
       "    </tr>\n",
       "    <tr>\n",
       "      <th>39</th>\n",
       "      <td>08:00</td>\n",
       "      <td>79</td>\n",
       "      <td>29°</td>\n",
       "      <td>25.2</td>\n",
       "      <td>81%</td>\n",
       "    </tr>\n",
       "    <tr>\n",
       "      <th>40</th>\n",
       "      <td>09:00</td>\n",
       "      <td>79</td>\n",
       "      <td>29°</td>\n",
       "      <td>28.8</td>\n",
       "      <td>77%</td>\n",
       "    </tr>\n",
       "    <tr>\n",
       "      <th>41</th>\n",
       "      <td>10:00</td>\n",
       "      <td>79</td>\n",
       "      <td>30°</td>\n",
       "      <td>28.8</td>\n",
       "      <td>76%</td>\n",
       "    </tr>\n",
       "    <tr>\n",
       "      <th>42</th>\n",
       "      <td>11:00</td>\n",
       "      <td>79</td>\n",
       "      <td>30°</td>\n",
       "      <td>28.8</td>\n",
       "      <td>76%</td>\n",
       "    </tr>\n",
       "    <tr>\n",
       "      <th>43</th>\n",
       "      <td>12:00</td>\n",
       "      <td>79</td>\n",
       "      <td>30°</td>\n",
       "      <td>28.8</td>\n",
       "      <td>75%</td>\n",
       "    </tr>\n",
       "    <tr>\n",
       "      <th>44</th>\n",
       "      <td>13:00</td>\n",
       "      <td>79</td>\n",
       "      <td>30°</td>\n",
       "      <td>28.8</td>\n",
       "      <td>75%</td>\n",
       "    </tr>\n",
       "    <tr>\n",
       "      <th>45</th>\n",
       "      <td>14:00</td>\n",
       "      <td>81</td>\n",
       "      <td>30°</td>\n",
       "      <td>25.2</td>\n",
       "      <td>75%</td>\n",
       "    </tr>\n",
       "    <tr>\n",
       "      <th>46</th>\n",
       "      <td>15:00</td>\n",
       "      <td>81</td>\n",
       "      <td>30°</td>\n",
       "      <td>28.8</td>\n",
       "      <td>75%</td>\n",
       "    </tr>\n",
       "    <tr>\n",
       "      <th>47</th>\n",
       "      <td>16:00</td>\n",
       "      <td>81</td>\n",
       "      <td>30°</td>\n",
       "      <td>28.8</td>\n",
       "      <td>75%</td>\n",
       "    </tr>\n",
       "    <tr>\n",
       "      <th>48</th>\n",
       "      <td>17:00</td>\n",
       "      <td>79</td>\n",
       "      <td>30°</td>\n",
       "      <td>28.8</td>\n",
       "      <td>76%</td>\n",
       "    </tr>\n",
       "    <tr>\n",
       "      <th>49</th>\n",
       "      <td>18:00</td>\n",
       "      <td>79</td>\n",
       "      <td>29°</td>\n",
       "      <td>28.8</td>\n",
       "      <td>77%</td>\n",
       "    </tr>\n",
       "    <tr>\n",
       "      <th>50</th>\n",
       "      <td>19:00</td>\n",
       "      <td>79</td>\n",
       "      <td>29°</td>\n",
       "      <td>28.8</td>\n",
       "      <td>78%</td>\n",
       "    </tr>\n",
       "    <tr>\n",
       "      <th>51</th>\n",
       "      <td>20:00</td>\n",
       "      <td>78</td>\n",
       "      <td>29°</td>\n",
       "      <td>28.8</td>\n",
       "      <td>80%</td>\n",
       "    </tr>\n",
       "    <tr>\n",
       "      <th>52</th>\n",
       "      <td>21:00</td>\n",
       "      <td>78</td>\n",
       "      <td>29°</td>\n",
       "      <td>28.8</td>\n",
       "      <td>81%</td>\n",
       "    </tr>\n",
       "    <tr>\n",
       "      <th>53</th>\n",
       "      <td>22:00</td>\n",
       "      <td>78</td>\n",
       "      <td>29°</td>\n",
       "      <td>28.8</td>\n",
       "      <td>79%</td>\n",
       "    </tr>\n",
       "    <tr>\n",
       "      <th>54</th>\n",
       "      <td>23:00</td>\n",
       "      <td>80</td>\n",
       "      <td>29°</td>\n",
       "      <td>28.8</td>\n",
       "      <td>79%</td>\n",
       "    </tr>\n",
       "    <tr>\n",
       "      <th>55</th>\n",
       "      <td>00:00</td>\n",
       "      <td>80</td>\n",
       "      <td>29°</td>\n",
       "      <td>28.8</td>\n",
       "      <td>80%</td>\n",
       "    </tr>\n",
       "    <tr>\n",
       "      <th>56</th>\n",
       "      <td>01:00</td>\n",
       "      <td>80</td>\n",
       "      <td>28°</td>\n",
       "      <td>28.8</td>\n",
       "      <td>81%</td>\n",
       "    </tr>\n",
       "    <tr>\n",
       "      <th>57</th>\n",
       "      <td>02:00</td>\n",
       "      <td>82</td>\n",
       "      <td>28°</td>\n",
       "      <td>28.8</td>\n",
       "      <td>82%</td>\n",
       "    </tr>\n",
       "    <tr>\n",
       "      <th>58</th>\n",
       "      <td>03:00</td>\n",
       "      <td>82</td>\n",
       "      <td>28°</td>\n",
       "      <td>28.8</td>\n",
       "      <td>83%</td>\n",
       "    </tr>\n",
       "    <tr>\n",
       "      <th>59</th>\n",
       "      <td>04:00</td>\n",
       "      <td>82</td>\n",
       "      <td>28°</td>\n",
       "      <td>28.8</td>\n",
       "      <td>83%</td>\n",
       "    </tr>\n",
       "    <tr>\n",
       "      <th>60</th>\n",
       "      <td>05:00</td>\n",
       "      <td>80</td>\n",
       "      <td>28°</td>\n",
       "      <td>28.8</td>\n",
       "      <td>83%</td>\n",
       "    </tr>\n",
       "    <tr>\n",
       "      <th>61</th>\n",
       "      <td>06:00</td>\n",
       "      <td>80</td>\n",
       "      <td>28°</td>\n",
       "      <td>28.8</td>\n",
       "      <td>83%</td>\n",
       "    </tr>\n",
       "    <tr>\n",
       "      <th>62</th>\n",
       "      <td>07:00</td>\n",
       "      <td>80</td>\n",
       "      <td>28°</td>\n",
       "      <td>28.8</td>\n",
       "      <td>82%</td>\n",
       "    </tr>\n",
       "    <tr>\n",
       "      <th>63</th>\n",
       "      <td>08:00</td>\n",
       "      <td>77</td>\n",
       "      <td>29°</td>\n",
       "      <td>28.8</td>\n",
       "      <td>79%</td>\n",
       "    </tr>\n",
       "    <tr>\n",
       "      <th>64</th>\n",
       "      <td>09:00</td>\n",
       "      <td>77</td>\n",
       "      <td>29°</td>\n",
       "      <td>28.8</td>\n",
       "      <td>76%</td>\n",
       "    </tr>\n",
       "    <tr>\n",
       "      <th>65</th>\n",
       "      <td>10:00</td>\n",
       "      <td>77</td>\n",
       "      <td>29°</td>\n",
       "      <td>28.8</td>\n",
       "      <td>75%</td>\n",
       "    </tr>\n",
       "    <tr>\n",
       "      <th>66</th>\n",
       "      <td>11:00</td>\n",
       "      <td>78</td>\n",
       "      <td>30°</td>\n",
       "      <td>28.8</td>\n",
       "      <td>75%</td>\n",
       "    </tr>\n",
       "    <tr>\n",
       "      <th>67</th>\n",
       "      <td>12:00</td>\n",
       "      <td>78</td>\n",
       "      <td>30°</td>\n",
       "      <td>28.8</td>\n",
       "      <td>74%</td>\n",
       "    </tr>\n",
       "    <tr>\n",
       "      <th>68</th>\n",
       "      <td>13:00</td>\n",
       "      <td>78</td>\n",
       "      <td>30°</td>\n",
       "      <td>28.8</td>\n",
       "      <td>75%</td>\n",
       "    </tr>\n",
       "    <tr>\n",
       "      <th>69</th>\n",
       "      <td>14:00</td>\n",
       "      <td>73</td>\n",
       "      <td>30°</td>\n",
       "      <td>28.8</td>\n",
       "      <td>74%</td>\n",
       "    </tr>\n",
       "    <tr>\n",
       "      <th>70</th>\n",
       "      <td>15:00</td>\n",
       "      <td>73</td>\n",
       "      <td>30°</td>\n",
       "      <td>28.8</td>\n",
       "      <td>75%</td>\n",
       "    </tr>\n",
       "    <tr>\n",
       "      <th>71</th>\n",
       "      <td>16:00</td>\n",
       "      <td>73</td>\n",
       "      <td>30°</td>\n",
       "      <td>32.4</td>\n",
       "      <td>76%</td>\n",
       "    </tr>\n",
       "  </tbody>\n",
       "</table>\n",
       "</div>"
      ],
      "text/plain": [
       "   Timestamp AQI Temperature Wind Speed Humidity\n",
       "0      17:00  57         29°       28.8      78%\n",
       "1      18:00  60         29°       28.8      78%\n",
       "2      19:00  62         29°       25.2      79%\n",
       "3      20:00  66         28°       25.2      78%\n",
       "4      21:00  68         28°       21.6      78%\n",
       "5      22:00  71         28°       21.6      79%\n",
       "6      23:00  72         28°       21.6      83%\n",
       "7      00:00  74         28°       21.6      87%\n",
       "8      01:00  77         28°       21.6      87%\n",
       "9      02:00  79         28°       21.6      88%\n",
       "10     03:00  82         28°       25.2      87%\n",
       "11     04:00  84         28°       25.2      87%\n",
       "12     05:00  80         28°       25.2      86%\n",
       "13     06:00  80         28°       28.8      81%\n",
       "14     07:00  80         28°       28.8      80%\n",
       "15     08:00  77         28°       28.8      80%\n",
       "16     09:00  77         28°       28.8      82%\n",
       "17     10:00  77         29°       28.8      80%\n",
       "18     11:00  81         29°       28.8      78%\n",
       "19     12:00  81         29°       25.2      78%\n",
       "20     13:00  81         30°       28.8      76%\n",
       "21     14:00  83         30°       28.8      75%\n",
       "22     15:00  83         30°       28.8      75%\n",
       "23     16:00  83         30°       28.8      75%\n",
       "24     17:00  82         30°       28.8      75%\n",
       "25     18:00  82         30°       25.2      76%\n",
       "26     19:00  82         29°       28.8      77%\n",
       "27     20:00  79         29°       28.8      79%\n",
       "28     21:00  79         29°       28.8      81%\n",
       "29     22:00  79         29°       28.8      81%\n",
       "30     23:00  78         29°       28.8      81%\n",
       "31     00:00  78         28°       28.8      82%\n",
       "32     01:00  78         28°       28.8      83%\n",
       "33     02:00  78         28°       25.2      84%\n",
       "34     03:00  78         28°       25.2      84%\n",
       "35     04:00  78         28°       25.2      84%\n",
       "36     05:00  78         28°       25.2      84%\n",
       "37     06:00  78         28°       25.2      84%\n",
       "38     07:00  78         28°       25.2      83%\n",
       "39     08:00  79         29°       25.2      81%\n",
       "40     09:00  79         29°       28.8      77%\n",
       "41     10:00  79         30°       28.8      76%\n",
       "42     11:00  79         30°       28.8      76%\n",
       "43     12:00  79         30°       28.8      75%\n",
       "44     13:00  79         30°       28.8      75%\n",
       "45     14:00  81         30°       25.2      75%\n",
       "46     15:00  81         30°       28.8      75%\n",
       "47     16:00  81         30°       28.8      75%\n",
       "48     17:00  79         30°       28.8      76%\n",
       "49     18:00  79         29°       28.8      77%\n",
       "50     19:00  79         29°       28.8      78%\n",
       "51     20:00  78         29°       28.8      80%\n",
       "52     21:00  78         29°       28.8      81%\n",
       "53     22:00  78         29°       28.8      79%\n",
       "54     23:00  80         29°       28.8      79%\n",
       "55     00:00  80         29°       28.8      80%\n",
       "56     01:00  80         28°       28.8      81%\n",
       "57     02:00  82         28°       28.8      82%\n",
       "58     03:00  82         28°       28.8      83%\n",
       "59     04:00  82         28°       28.8      83%\n",
       "60     05:00  80         28°       28.8      83%\n",
       "61     06:00  80         28°       28.8      83%\n",
       "62     07:00  80         28°       28.8      82%\n",
       "63     08:00  77         29°       28.8      79%\n",
       "64     09:00  77         29°       28.8      76%\n",
       "65     10:00  77         29°       28.8      75%\n",
       "66     11:00  78         30°       28.8      75%\n",
       "67     12:00  78         30°       28.8      74%\n",
       "68     13:00  78         30°       28.8      75%\n",
       "69     14:00  73         30°       28.8      74%\n",
       "70     15:00  73         30°       28.8      75%\n",
       "71     16:00  73         30°       32.4      76%"
      ]
     },
     "execution_count": 7,
     "metadata": {},
     "output_type": "execute_result"
    }
   ],
   "source": [
    "pd.set_option('display.max_rows', None)\n",
    "df"
   ]
  }
 ],
 "metadata": {
  "kernelspec": {
   "display_name": "Python 3",
   "language": "python",
   "name": "python3"
  },
  "language_info": {
   "codemirror_mode": {
    "name": "ipython",
    "version": 3
   },
   "file_extension": ".py",
   "mimetype": "text/x-python",
   "name": "python",
   "nbconvert_exporter": "python",
   "pygments_lexer": "ipython3",
   "version": "3.12.6"
  }
 },
 "nbformat": 4,
 "nbformat_minor": 5
}
