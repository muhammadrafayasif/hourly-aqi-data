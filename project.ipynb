{
 "cells": [
  {
   "cell_type": "code",
   "execution_count": 2,
   "id": "bf962d30",
   "metadata": {},
   "outputs": [],
   "source": [
    "from selenium import webdriver\n",
    "from bs4 import BeautifulSoup\n",
    "import pandas as pd\n",
    "import plotly.express as px"
   ]
  },
  {
   "cell_type": "code",
   "execution_count": 3,
   "id": "5072abf8",
   "metadata": {},
   "outputs": [],
   "source": [
    "driver = webdriver.Firefox()\n",
    "driver.get('https://www.iqair.com/pakistan/sindh/karachi')\n",
    "source = driver.page_source"
   ]
  },
  {
   "cell_type": "code",
   "execution_count": 4,
   "id": "b01beb31",
   "metadata": {},
   "outputs": [],
   "source": [
    "weather = BeautifulSoup(source, 'html.parser')\n",
    "N = len(weather.find_all(class_='forecast-item'))"
   ]
  },
  {
   "cell_type": "code",
   "execution_count": 5,
   "id": "f9ff223d",
   "metadata": {},
   "outputs": [],
   "source": [
    "data = list()\n",
    "for i in range(1, N):\n",
    "    timestamp = weather.find_all(class_='forecast-item')[i].contents[0].contents[1].strip()\n",
    "    aqi = weather.find_all(class_='forecast-item')[i].contents[1].contents[0].strip()\n",
    "    temp = weather.find_all(class_='forecast-item')[i].contents[4].contents[0].strip()\n",
    "    windSpeed = weather.find_all(class_='forecast-item')[i].contents[5].contents[1].contents[0].strip()\n",
    "    humidity = weather.find_all(class_='forecast-item')[i].contents[6].contents[1].contents[0].strip()\n",
    "    data.append((timestamp, aqi, temp, windSpeed, humidity))"
   ]
  },
  {
   "cell_type": "code",
   "execution_count": null,
   "id": "2a906157",
   "metadata": {},
   "outputs": [
    {
     "data": {
      "text/plain": [
       "<bound method BaseFigure.show of Figure({\n",
       "    'data': [{'hovertemplate': 'x=%{x}<br>y=%{y}<extra></extra>',\n",
       "              'legendgroup': '',\n",
       "              'line': {'color': '#636efa', 'dash': 'solid'},\n",
       "              'marker': {'symbol': 'circle'},\n",
       "              'mode': 'lines',\n",
       "              'name': '',\n",
       "              'orientation': 'v',\n",
       "              'showlegend': False,\n",
       "              'type': 'scatter',\n",
       "              'x': array(['17:00', '18:00', '19:00', '20:00', '21:00', '22:00', '23:00', '00:00',\n",
       "                          '01:00', '02:00', '03:00', '04:00', '05:00', '06:00', '07:00', '08:00',\n",
       "                          '09:00', '10:00', '11:00', '12:00', '13:00', '14:00', '15:00', '16:00',\n",
       "                          '17:00', '18:00', '19:00', '20:00', '21:00', '22:00', '23:00', '00:00',\n",
       "                          '01:00', '02:00', '03:00', '04:00', '05:00', '06:00', '07:00', '08:00',\n",
       "                          '09:00', '10:00', '11:00', '12:00', '13:00', '14:00', '15:00', '16:00',\n",
       "                          '17:00', '18:00', '19:00', '20:00', '21:00', '22:00', '23:00', '00:00',\n",
       "                          '01:00', '02:00', '03:00', '04:00', '05:00', '06:00', '07:00', '08:00',\n",
       "                          '09:00', '10:00', '11:00', '12:00', '13:00', '14:00', '15:00', '16:00'],\n",
       "                         dtype=object),\n",
       "              'xaxis': 'x',\n",
       "              'y': array(['57', '60', '62', '66', '68', '71', '72', '74', '77', '79', '82', '84',\n",
       "                          '80', '80', '80', '77', '77', '77', '81', '81', '81', '83', '83', '83',\n",
       "                          '82', '82', '82', '79', '79', '79', '78', '78', '78', '78', '78', '78',\n",
       "                          '78', '78', '78', '79', '79', '79', '79', '79', '79', '81', '81', '81',\n",
       "                          '79', '79', '79', '78', '78', '78', '80', '80', '80', '82', '82', '82',\n",
       "                          '80', '80', '80', '77', '77', '77', '78', '78', '78', '73', '73', '73'],\n",
       "                         dtype=object),\n",
       "              'yaxis': 'y'}],\n",
       "    'layout': {'legend': {'tracegroupgap': 0},\n",
       "               'margin': {'t': 60},\n",
       "               'template': '...',\n",
       "               'xaxis': {'anchor': 'y', 'domain': [0.0, 1.0], 'title': {'text': 'x'}},\n",
       "               'yaxis': {'anchor': 'x', 'domain': [0.0, 1.0], 'title': {'text': 'y'}}}\n",
       "})>"
      ]
     },
     "execution_count": 11,
     "metadata": {},
     "output_type": "execute_result"
    }
   ],
   "source": [
    "df = pd.DataFrame(data, columns=['Timestamp', 'AQI', 'Temperature', 'Wind Speed', 'Humidity'])\n",
    "\n",
    "figure = px.line(x=df['Timestamp'], y=df['AQI'])\n",
    "figure.show"
   ]
  }
 ],
 "metadata": {
  "kernelspec": {
   "display_name": "Python 3",
   "language": "python",
   "name": "python3"
  },
  "language_info": {
   "codemirror_mode": {
    "name": "ipython",
    "version": 3
   },
   "file_extension": ".py",
   "mimetype": "text/x-python",
   "name": "python",
   "nbconvert_exporter": "python",
   "pygments_lexer": "ipython3",
   "version": "3.12.6"
  }
 },
 "nbformat": 4,
 "nbformat_minor": 5
}
